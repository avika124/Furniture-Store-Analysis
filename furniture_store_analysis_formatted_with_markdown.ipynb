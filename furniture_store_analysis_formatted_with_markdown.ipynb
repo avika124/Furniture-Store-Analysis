{
 "cells": [
  {
   "cell_type": "markdown",
   "id": "7fe7c51f",
   "metadata": {},
   "source": [
    "# Furniture Store Analysis\n",
    "\n",
    "This notebook provides a comprehensive analysis of customer behavior and product performance in a furniture store. It includes:\n",
    "\n",
    "- RFM (Recency, Frequency, Monetary) analysis for customer segmentation.\n",
    "- Product performance evaluation by revenue and units sold.\n",
    "- Customer review and rating trends.\n",
    "\n",
    "---"
   ]
  },
  {
   "cell_type": "markdown",
   "id": "4a12eeb3",
   "metadata": {},
   "source": [
    "## Importing Libraries\n",
    "\n",
    "We start by importing the necessary Python libraries for data manipulation and analysis."
   ]
  },
  {
   "cell_type": "code",
   "execution_count": null,
   "id": "dc880437",
   "metadata": {},
   "outputs": [],
   "source": [
    "import pandas as pd\n",
    "import numpy as np\n",
    "import matplotlib.pyplot as plt\n",
    "import seaborn as sns\n",
    "from datetime import datetime, timedelta"
   ]
  },
  {
   "cell_type": "markdown",
   "id": "cb42758a",
   "metadata": {},
   "source": [
    "## Loading the Data\n",
    "\n",
    "The datasets used include customer details, product information, orders, and customer reviews."
   ]
  },
  {
   "cell_type": "code",
   "execution_count": null,
   "id": "9466a860",
   "metadata": {},
   "outputs": [],
   "source": [
    "customers = pd.read_csv('customers.csv')\n",
    "products = pd.read_csv('products.csv')\n",
    "orders = pd.read_csv('orders.csv')\n",
    "ratings = pd.read_csv('ratings.csv')\n",
    "\n",
    "# Display the first few rows of each dataset\n",
    "customers.head(), products.head(), orders.head(), ratings.head()"
   ]
  },
  {
   "cell_type": "markdown",
   "id": "45d33c0b",
   "metadata": {},
   "source": [
    "## RFM Analysis\n",
    "\n",
    "RFM (Recency, Frequency, Monetary) analysis is performed to segment customers based on their purchase behavior."
   ]
  },
  {
   "cell_type": "code",
   "execution_count": null,
   "id": "239ec0f9",
   "metadata": {},
   "outputs": [],
   "source": [
    "# Ensure 'order_date' is in datetime format\n",
    "orders['order_date'] = pd.to_datetime(orders['order_date'])\n",
    "\n",
    "# Calculate Recency, Frequency, and Monetary metrics\n",
    "recency = orders.groupby('customer_id')['order_date'].max().reset_index()\n",
    "recency['Recency'] = (datetime.now() - recency['order_date']).dt.days\n",
    "\n",
    "frequency = orders.groupby('customer_id').size().reset_index(name='Frequency')\n",
    "\n",
    "orders = orders.merge(products[['product_id', 'price']], on='product_id', how='left')\n",
    "orders['revenue'] = orders['price'] * orders['quantity']\n",
    "monetary = orders.groupby('customer_id')['revenue'].sum().reset_index(name='Monetary')\n",
    "\n",
    "# Merge RFM metrics\n",
    "rfm = recency[['customer_id', 'Recency']].merge(frequency, on='customer_id').merge(monetary, on='customer_id')\n",
    "rfm.head()"
   ]
  },
  {
   "cell_type": "markdown",
   "id": "9718d42f",
   "metadata": {},
   "source": [
    "## Product Performance Analysis\n",
    "\n",
    "This section evaluates product performance based on revenue and units sold."
   ]
  },
  {
   "cell_type": "code",
   "execution_count": null,
   "id": "89dbc56c",
   "metadata": {},
   "outputs": [],
   "source": [
    "# Calculate revenue and units sold per product\n",
    "product_performance = orders.groupby('product_id').agg(\n",
    "    total_revenue=('revenue', 'sum'),\n",
    "    total_units_sold=('quantity', 'sum')\n",
    ").reset_index()\n",
    "\n",
    "# Merge with product details\n",
    "product_performance = product_performance.merge(products[['product_id', 'product_name']], on='product_id', how='left')\n",
    "\n",
    "# Display top-performing products\n",
    "product_performance.sort_values(by='total_revenue', ascending=False).head()"
   ]
  },
  {
   "cell_type": "markdown",
   "id": "a77f2c78",
   "metadata": {},
   "source": [
    "## Customer Reviews Analysis\n",
    "\n",
    "Analyzing customer reviews to identify trends in satisfaction and product feedback."
   ]
  },
  {
   "cell_type": "code",
   "execution_count": null,
   "id": "4aa2f5d0",
   "metadata": {},
   "outputs": [],
   "source": [
    "# Calculate the number of reviews and average rating per product\n",
    "reviews_summary = ratings.groupby('product_id').agg(\n",
    "    num_reviews=('rating', 'size'),\n",
    "    avg_rating=('rating', 'mean')\n",
    ").reset_index()\n",
    "\n",
    "# Merge with product details\n",
    "reviews_summary = reviews_summary.merge(products[['product_id', 'product_name']], on='product_id', how='left')\n",
    "\n",
    "# Display top-reviewed products\n",
    "reviews_summary.sort_values(by='num_reviews', ascending=False).head()"
   ]
  },
  {
   "cell_type": "markdown",
   "id": "451e12c6",
   "metadata": {},
   "source": [
    "## Conclusion\n",
    "\n",
    "This analysis provides valuable insights into customer behavior and product performance. The results can help optimize marketing strategies, improve inventory management, and enhance customer satisfaction."
   ]
  }
 ],
 "metadata": {
  "kernelspec": {
   "display_name": "Python 3 (ipykernel)",
   "language": "python",
   "name": "python3"
  },
  "language_info": {
   "codemirror_mode": {
    "name": "ipython",
    "version": 3
   },
   "file_extension": ".py",
   "mimetype": "text/x-python",
   "name": "python",
   "nbconvert_exporter": "python",
   "pygments_lexer": "ipython3",
   "version": "3.11.8"
  }
 },
 "nbformat": 4,
 "nbformat_minor": 5
}
